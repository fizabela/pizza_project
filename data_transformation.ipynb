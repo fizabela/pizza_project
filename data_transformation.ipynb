{
 "cells": [
  {
   "cell_type": "code",
   "execution_count": 3,
   "metadata": {},
   "outputs": [],
   "source": [
    "import pandas as pd\n",
    "import numpy as np"
   ]
  },
  {
   "cell_type": "code",
   "execution_count": 91,
   "metadata": {},
   "outputs": [],
   "source": [
    "df = pd.read_excel('Data Model - Pizza Sales.xlsx', sheet_name='pizza_sales')"
   ]
  },
  {
   "cell_type": "code",
   "execution_count": 146,
   "metadata": {},
   "outputs": [],
   "source": [
    "#  Unique ingredients\n",
    "\n",
    "all_ingredients = []\n",
    "for ingred in df['pizza_ingredients']:\n",
    "    temp = ingred.split(', ')\n",
    "    for x in temp:\n",
    "        if x not in all_ingredients:\n",
    "            all_ingredients.append(x)\n",
    "\n",
    "unique_ing = pd.DataFrame(data=all_ingredients,columns=['ing_name']).sort_values(by='ing_name')\n",
    "\n",
    "keys = unique_ing['ing_name']\n",
    "values = range(1, len(unique_ing['ing_name'])+1)\n",
    "mapped_ing = dict(zip(keys, values))\n",
    "unique_ing[\"ing_id\"] = unique_ing['ing_name'].map(mapped_ing)"
   ]
  },
  {
   "cell_type": "code",
   "execution_count": 148,
   "metadata": {},
   "outputs": [
    {
     "name": "stderr",
     "output_type": "stream",
     "text": [
      "C:\\Users\\Izabela Fryca\\AppData\\Local\\Temp\\ipykernel_16212\\1490115065.py:8: SettingWithCopyWarning: \n",
      "A value is trying to be set on a copy of a slice from a DataFrame.\n",
      "Try using .loc[row_indexer,col_indexer] = value instead\n",
      "\n",
      "See the caveats in the documentation: https://pandas.pydata.org/pandas-docs/stable/user_guide/indexing.html#returning-a-view-versus-a-copy\n",
      "  unique_pizzas[\"pizza_id\"] = unique_pizzas['pizza_name'].map(mapped_pizzas)\n"
     ]
    }
   ],
   "source": [
    "#  Unique pizzas\n",
    "\n",
    "df_pizzas = df[['pizza_name', 'pizza_category']]\n",
    "unique_pizzas = df_pizzas.drop_duplicates()\n",
    "keys = unique_pizzas['pizza_name']\n",
    "values = range(1, len(unique_pizzas['pizza_name'])+1)\n",
    "mapped_pizzas = dict(zip(keys, values))\n",
    "unique_pizzas[\"pizza_id\"] = unique_pizzas['pizza_name'].map(mapped_pizzas)"
   ]
  },
  {
   "cell_type": "code",
   "execution_count": 152,
   "metadata": {},
   "outputs": [],
   "source": [
    "#  Recipe\n",
    "\n",
    "new_df = df.filter(['pizza_name', 'pizza_ingredients'])\n",
    "all_ingredients = []\n",
    "pizzas = []\n",
    "for pizza, ingred in zip(new_df['pizza_name'], new_df['pizza_ingredients']):\n",
    "    temp = ingred.split(', ')\n",
    "    for x in temp:\n",
    "        pizzas.append(pizza)\n",
    "        all_ingredients.append(x)\n",
    "\n",
    "unique_recipes = pd.DataFrame(data=[pizzas, all_ingredients]).T.drop_duplicates()\n",
    "unique_recipes.columns = ['pizza_name', 'ingredient']\n",
    "\n",
    "#  mapping \n",
    "unique_recipes[\"pizza_id\"] = unique_recipes['pizza_name'].map(mapped_pizzas)\n",
    "unique_recipes[\"ing_id\"] = unique_recipes['ingredient'].map(mapped_ing)\n",
    "unique_recipes.drop(['pizza_name', 'ingredient'], axis=1, inplace=True)\n"
   ]
  },
  {
   "cell_type": "code",
   "execution_count": 154,
   "metadata": {},
   "outputs": [
    {
     "name": "stderr",
     "output_type": "stream",
     "text": [
      "C:\\Users\\Izabela Fryca\\AppData\\Local\\Temp\\ipykernel_16212\\1807991990.py:3: SettingWithCopyWarning: \n",
      "A value is trying to be set on a copy of a slice from a DataFrame.\n",
      "Try using .loc[row_indexer,col_indexer] = value instead\n",
      "\n",
      "See the caveats in the documentation: https://pandas.pydata.org/pandas-docs/stable/user_guide/indexing.html#returning-a-view-versus-a-copy\n",
      "  df_orders['pizza_id'] = df_orders['pizza_name'].map(mapped_pizzas)\n",
      "C:\\Users\\Izabela Fryca\\AppData\\Local\\Temp\\ipykernel_16212\\1807991990.py:4: SettingWithCopyWarning: \n",
      "A value is trying to be set on a copy of a slice from a DataFrame\n",
      "\n",
      "See the caveats in the documentation: https://pandas.pydata.org/pandas-docs/stable/user_guide/indexing.html#returning-a-view-versus-a-copy\n",
      "  df_orders.drop('pizza_name', axis=1, inplace=True)\n"
     ]
    }
   ],
   "source": [
    "# Orders\n",
    "df_orders = df[['order_id',  'order_date','order_time', 'quantity', 'pizza_size', 'unit_price', 'pizza_name']]\n",
    "df_orders['pizza_id'] = df_orders['pizza_name'].map(mapped_pizzas)\n",
    "df_orders.drop('pizza_name', axis=1, inplace=True)"
   ]
  }
 ],
 "metadata": {
  "kernelspec": {
   "display_name": "Python 3.9.6 64-bit",
   "language": "python",
   "name": "python3"
  },
  "language_info": {
   "codemirror_mode": {
    "name": "ipython",
    "version": 3
   },
   "file_extension": ".py",
   "mimetype": "text/x-python",
   "name": "python",
   "nbconvert_exporter": "python",
   "pygments_lexer": "ipython3",
   "version": "3.9.6"
  },
  "orig_nbformat": 4,
  "vscode": {
   "interpreter": {
    "hash": "2a6bcafbfb1b3ca62806a7313800d8ee339e6a9c0b379d6af879a702e9c68341"
   }
  }
 },
 "nbformat": 4,
 "nbformat_minor": 2
}
